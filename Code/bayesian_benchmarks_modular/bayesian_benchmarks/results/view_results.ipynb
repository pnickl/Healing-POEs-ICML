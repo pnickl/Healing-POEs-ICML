{
 "cells": [
  {
   "cell_type": "code",
   "execution_count": 1,
   "metadata": {},
   "outputs": [
    {
     "data": {
      "application/javascript": [
       "\n",
       "IPython.OutputArea.auto_scroll_threshold = 9999\n"
      ],
      "text/plain": [
       "<IPython.core.display.Javascript object>"
      ]
     },
     "metadata": {},
     "output_type": "display_data"
    }
   ],
   "source": [
    "%%javascript\n",
    "\n",
    "IPython.OutputArea.auto_scroll_threshold = 9999"
   ]
  },
  {
   "cell_type": "code",
   "execution_count": 2,
   "metadata": {},
   "outputs": [],
   "source": [
    "import sys\n",
    "sys.path.append('../../')\n",
    "import sys\n",
    "sys.path.remove('/anaconda3/lib/python3.7/site-packages/bayesian_benchmarks-alpha-py3.7.egg')\n",
    "from matplotlib import pyplot\n",
    "import numpy as np\n",
    "import pandas\n",
    "from matplotlib import pyplot as plt\n",
    "from scipy.stats import rankdata\n",
    "from IPython.display import display, HTML\n",
    "\n",
    "from bayesian_benchmarks.database_utils import Database\n",
    "from bayesian_benchmarks.data import  _ALL_REGRESSION_DATATSETS\n",
    "ALL_DATATSETS = {}\n",
    "ALL_DATATSETS.update(_ALL_REGRESSION_DATATSETS)\n",
    "from bayesian_benchmarks.data import regression_datasets\n"
   ]
  },
  {
   "cell_type": "code",
   "execution_count": 3,
   "metadata": {},
   "outputs": [],
   "source": [
    "def rankarray(A):\n",
    "    ranks = []\n",
    "    for a in A:\n",
    "        ranks.append(rankdata(a))\n",
    "    return np.array(ranks)\n",
    "\n",
    "\n",
    "def read_regression_classification(fs, models_names, datasets, task,file='results.db'):\n",
    "    if task == 'classification':\n",
    "        fields = ['dataset', 'N', 'D', 'K'] + [m[1] for m in models_names]\n",
    "    else:\n",
    "        fields = ['dataset', 'N', 'D'] + [m[1] for m in models_names]\n",
    "\n",
    "    results = {}\n",
    "    for f in fs:\n",
    "        results[f] = {'table':{f:[] for f in fields}, 'vals':[]}\n",
    "\n",
    "    with Database('../results/'+file) as db:\n",
    "\n",
    "        for dataset in datasets:\n",
    "            for f in fs:\n",
    "                results[f]['table']['dataset'].append(dataset[:10])\n",
    "                results[f]['table']['N'].append(ALL_DATATSETS[dataset].N)\n",
    "                results[f]['table']['D'].append(ALL_DATATSETS[dataset].D)\n",
    "                if task == 'classification':\n",
    "                    results[f]['table']['K'].append(ALL_DATATSETS[dataset].K)\n",
    "\n",
    "            row = {f:[] for f in fs}\n",
    "            for model, name in models_names:\n",
    "                res = db.read(task, fs, {'model':model, \n",
    "                                         'dataset':dataset})\n",
    "                    \n",
    "                if len(res) == 0:\n",
    "                    for f in fs:\n",
    "                        results[f]['table'][name].append('')\n",
    "                        row[f].append(np.nan)\n",
    "                else:\n",
    "                    for i, f in enumerate(fs):\n",
    "                        L = [float(l[i]) for l in res]\n",
    "                        m = np.average(L)\n",
    "                        std = np.std(L) if len(L) > 1 else np.nan\n",
    "                        if m < 1000 and m > -1000:\n",
    "                            r = '{:.3f}({:.3f})'.format(m, std)\n",
    "                            row[f].append(m)\n",
    "                        else:\n",
    "                            r = 'nan'\n",
    "                            row[f].append(np.nan)\n",
    "\n",
    "                        results[f]['table'][name].append(r)\n",
    "\n",
    "            #             stderr = np.std(L)/float(len(L))**0.5\n",
    "            #             r = '{:.3f} ({:.3f})'.format(m, stderr)\n",
    "            for f in fs:   \n",
    "                results[f]['vals'].append(row[f])\n",
    "\n",
    "\n",
    "    for f in fs:\n",
    "        if 'unnormalized' not in f:\n",
    "            vals = np.array(results[f]['vals'])\n",
    "\n",
    "            avgs = np.nanmean(vals, 0)\n",
    "            meds = np.nanmedian(vals, 0)\n",
    "            rks = np.nanmean(rankarray(vals), 0)\n",
    "\n",
    "            for s, n in [[avgs, 'avg'], [meds, 'median'], [rks, 'avg rank']]:\n",
    "                results[f]['table']['dataset'].append(n)\n",
    "                results[f]['table']['N'].append('')\n",
    "                results[f]['table']['D'].append('')\n",
    "                if task == 'classification':\n",
    "                    results[f]['table']['K'].append('')\n",
    "                for ss, name in zip(s, [m[1] for m in models_names]):\n",
    "                    results[f]['table'][name].append('{:.3f}'.format(ss))\n",
    "    \n",
    "    return results, fields"
   ]
  },
  {
   "cell_type": "code",
   "execution_count": 37,
   "metadata": {},
   "outputs": [
    {
     "name": "stderr",
     "output_type": "stream",
     "text": [
      "/anaconda3/lib/python3.7/site-packages/ipykernel_launcher.py:61: RuntimeWarning: Mean of empty slice\n"
     ]
    }
   ],
   "source": [
    "models_names = [\n",
    "               \n",
    "                ['gPoE_100_100_clustering_variance', 'gPoE_50_100_var'],\n",
    "               ['bar_100_100_clustering_variance', 'bar_50_100_var'],\n",
    "               ['rBCM_1_100_clustering_diff_entr', 'rbcm'],\n",
    "               ['gp', 'gp'],\n",
    "               ['linear', 'linear']]\n",
    "                \n",
    "\n",
    "fs = 'test_loglik', 'test_rmse', 'test_loglik_unnormalized', 'test_rmse_unnormalized'\n",
    "\n",
    "results, fields = read_regression_classification(fs, models_names, regression_datasets, 'regression')\n"
   ]
  },
  {
   "cell_type": "code",
   "execution_count": null,
   "metadata": {},
   "outputs": [],
   "source": [
    "\n",
    "print('normalised test loglikelihood')\n",
    "display(HTML(pandas.DataFrame(results['test_loglik']['table'], columns=fields).to_html(index=False)))\n",
    "\n",
    "\n",
    "print('normalised test rmse')\n",
    "display(HTML(pandas.DataFrame(results['test_rmse']['table'], columns=fields).to_html(index=False)))\n"
   ]
  },
  {
   "cell_type": "code",
   "execution_count": null,
   "metadata": {},
   "outputs": [],
   "source": []
  },
  {
   "cell_type": "code",
   "execution_count": null,
   "metadata": {},
   "outputs": [],
   "source": []
  }
 ],
 "metadata": {
  "kernelspec": {
   "display_name": "Python 3",
   "language": "python",
   "name": "python3"
  },
  "language_info": {
   "codemirror_mode": {
    "name": "ipython",
    "version": 3
   },
   "file_extension": ".py",
   "mimetype": "text/x-python",
   "name": "python",
   "nbconvert_exporter": "python",
   "pygments_lexer": "ipython3",
   "version": "3.7.1"
  }
 },
 "nbformat": 4,
 "nbformat_minor": 4
}
