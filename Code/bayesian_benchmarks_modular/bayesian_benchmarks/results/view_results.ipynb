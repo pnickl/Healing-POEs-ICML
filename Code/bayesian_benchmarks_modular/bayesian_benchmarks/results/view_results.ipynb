{
 "cells": [
  {
   "cell_type": "code",
   "execution_count": 1,
   "outputs": [
    {
     "data": {
      "text/plain": "<IPython.core.display.Javascript object>",
      "application/javascript": "\nIPython.OutputArea.auto_scroll_threshold = 9999\n"
     },
     "metadata": {},
     "output_type": "display_data"
    }
   ],
   "source": [
    "%%javascript\n",
    "\n",
    "IPython.OutputArea.auto_scroll_threshold = 9999"
   ],
   "metadata": {
    "collapsed": false,
    "pycharm": {
     "name": "#%%\n"
    }
   }
  },
  {
   "cell_type": "code",
   "execution_count": 2,
   "metadata": {
    "pycharm": {
     "name": "#%%\n"
    }
   },
   "outputs": [
    {
     "name": "stdout",
     "output_type": "stream",
     "text": [
      "/home/pnickl/pycharm-projects/Healing-POEs-ICML/Code/bayesian_benchmarks_modular\n"
     ]
    }
   ],
   "source": [
    "cd ../../"
   ]
  },
  {
   "cell_type": "code",
   "execution_count": 3,
   "metadata": {
    "pycharm": {
     "name": "#%%\n"
    }
   },
   "outputs": [
    {
     "name": "stderr",
     "output_type": "stream",
     "text": [
      "2022-08-25 14:04:35.936125: I tensorflow/core/util/util.cc:169] oneDNN custom operations are on. You may see slightly different numerical results due to floating-point round-off errors from different computation orders. To turn them off, set the environment variable `TF_ENABLE_ONEDNN_OPTS=0`.\n"
     ]
    },
    {
     "name": "stdout",
     "output_type": "stream",
     "text": [
      "1\n"
     ]
    },
    {
     "name": "stderr",
     "output_type": "stream",
     "text": [
      "2022-08-25 14:04:36.956223: I tensorflow/stream_executor/cuda/cuda_gpu_executor.cc:975] successful NUMA node read from SysFS had negative value (-1), but there must be at least one NUMA node, so returning NUMA node zero\n",
      "2022-08-25 14:04:36.965860: I tensorflow/stream_executor/cuda/cuda_gpu_executor.cc:975] successful NUMA node read from SysFS had negative value (-1), but there must be at least one NUMA node, so returning NUMA node zero\n",
      "2022-08-25 14:04:36.966350: I tensorflow/stream_executor/cuda/cuda_gpu_executor.cc:975] successful NUMA node read from SysFS had negative value (-1), but there must be at least one NUMA node, so returning NUMA node zero\n"
     ]
    }
   ],
   "source": [
    "\n",
    "from matplotlib import pyplot\n",
    "import numpy as np\n",
    "import pandas\n",
    "from matplotlib import pyplot as plt\n",
    "from scipy.stats import rankdata\n",
    "from IPython.display import display, HTML\n",
    "\n",
    "from bayesian_benchmarks.database_utils import Database\n",
    "from bayesian_benchmarks.data import  _ALL_REGRESSION_DATATSETS\n",
    "from bayesian_benchmarks.data import  _ALL_CLASSIFICATION_DATATSETS\n",
    "ALL_DATATSETS = {}\n",
    "ALL_DATATSETS.update(_ALL_REGRESSION_DATATSETS)\n",
    "ALL_DATATSETS.update(_ALL_CLASSIFICATION_DATATSETS)\n",
    "from bayesian_benchmarks.data import regression_datasets\n",
    "from bayesian_benchmarks.data import classification_datasets\n"
   ]
  },
  {
   "cell_type": "code",
   "execution_count": 38,
   "metadata": {
    "pycharm": {
     "name": "#%%\n"
    }
   },
   "outputs": [],
   "source": [
    "def rankarray(A):\n",
    "    ranks = []\n",
    "    for a in A:\n",
    "        ranks.append(rankdata(a))\n",
    "    return np.array(ranks)\n",
    "\n",
    "\n",
    "def read_regression_classification(fs, models_names, datasets, task,file='results.db'):\n",
    "    if task == 'classification':\n",
    "        fields = ['dataset', 'N', 'D', 'K'] + [m[1] for m in models_names]\n",
    "    else:\n",
    "        fields = ['dataset', 'N', 'D'] + [m[1] for m in models_names]\n",
    "\n",
    "    results = {}\n",
    "    for f in fs:\n",
    "        results[f] = {'table':{f:[] for f in fields}, 'vals':[], 'vals_std':[]}\n",
    "\n",
    "    with Database('bayesian_benchmarks/results/'+file) as db:\n",
    "\n",
    "        for dataset in datasets:\n",
    "            if dataset != 'wam':\n",
    "                for f in fs:\n",
    "                    results[f]['table']['dataset'].append(dataset[:10])\n",
    "                    results[f]['table']['N'].append(ALL_DATATSETS[dataset].N)\n",
    "                    results[f]['table']['D'].append(ALL_DATATSETS[dataset].D)\n",
    "                    if task == 'classification':\n",
    "                        results[f]['table']['K'].append(ALL_DATATSETS[dataset].K)\n",
    "\n",
    "                row_std = {f:[] for f in fs}\n",
    "                row = {f:[] for f in fs}\n",
    "                for model, name in models_names:\n",
    "                    res = db.read(task, fs, {'model':model,\n",
    "                                             'dataset':dataset})\n",
    "                    if len(res) == 0:\n",
    "                        for f in fs:\n",
    "                            results[f]['table'][name].append('')\n",
    "                            row[f].append(np.nan)\n",
    "                    else:\n",
    "                        for i, f in enumerate(fs):\n",
    "                            if f=='test_loglik':\n",
    "                                L = [-float(l[i]) for l in res]\n",
    "                            else:\n",
    "                                L = [float(l[i]) for l in res]\n",
    "                            m = np.average(L)\n",
    "                            std = np.std(L) if len(L) > 1 else np.nan\n",
    "                            if m < 1000 and m > -1000:\n",
    "                                r = '{:.10f}({:.10f})'.format(m, std)\n",
    "                                row[f].append(m)\n",
    "                                row_std[f].append(std)\n",
    "                            else:\n",
    "                                r = 'nan'\n",
    "                                row[f].append(np.nan)\n",
    "\n",
    "                            # stderr = np.std(L)/float(len(L))**0.5\n",
    "                            # r = '{:.3f} ({:.3f})'.format(m, stderr)\n",
    "\n",
    "                            results[f]['table'][name].append(r)\n",
    "                for f in fs:\n",
    "                    results[f]['vals'].append(row[f])\n",
    "                    results[f]['vals_std'].append(row_std[f])\n",
    "\n",
    "        for f in fs:\n",
    "            #if 'unnormalized' not in f:\n",
    "            vals = np.array(results[f]['vals'])\n",
    "            vals_std = np.array(results[f]['vals_std'])\n",
    "\n",
    "            stds = np.nanmean(vals_std, 0)\n",
    "            avgs = np.nanmean(vals, 0)\n",
    "            meds = np.nanmedian(vals, 0)\n",
    "            rks = np.nanmean(rankarray(vals), 0)\n",
    "\n",
    "            for s, n in [[avgs, 'avg'], [stds, 'std'], [meds, 'median'], [rks, 'avg rank']]:\n",
    "                results[f]['table']['dataset'].append(n)\n",
    "                results[f]['table']['N'].append('')\n",
    "                results[f]['table']['D'].append('')\n",
    "                if task == 'classification':\n",
    "                    results[f]['table']['K'].append('')\n",
    "                for ss, name in zip(s, [m[1] for m in models_names]):\n",
    "                    results[f]['table'][name].append('{:.10f}'.format(ss))\n",
    "    \n",
    "    return results, fields"
   ]
  },
  {
   "cell_type": "code",
   "execution_count": 39,
   "metadata": {
    "collapsed": true,
    "jupyter": {
     "outputs_hidden": true
    },
    "pycharm": {
     "name": "#%%\n"
    }
   },
   "outputs": [],
   "source": [
    "# models_names = [\n",
    "#                ['gPoE_100_100_clustering_variance', 'rBCM/gPoE_var'],\n",
    "#                ['bar_100_100_clustering_variance', 'bar_var'],\n",
    "#                ['rBCM_100_100_clustering_diff_entr', 'rbcm_entr'],\n",
    "#                ['gp', 'gp'],\n",
    "#                ['linear', 'linear']]\n",
    "\n",
    "\n",
    "models_names = [\n",
    "                # ['rBCM_100_100_clustering_variance', 'rbcm_var'],\n",
    "                # ['rBCM_100_100_clustering_diff_entr', 'rBCM_entr'], # compare to results in paper\n",
    "                # ['gPoE_100_100_clustering_variance', 'rBCM/gPOE_var'], # compare to results in paper\n",
    "                ['linear', 'linear'], # compare to results in paper\n",
    "                ['PoE_100_100_clustering_no_weights', 'PoE (Ng & Deisenroth)' ],\n",
    "                ['gPoE_100_100_clustering_diff_entr', 'gPoE_entr (Cao & Fleet)']\n",
    "]\n",
    "\n",
    "\n",
    "# fs = 'test_loglik', 'test_rmse', 'test_loglik_unnormalized', 'test_rmse_unnormalized'\n",
    "fs = 'test_loglik', 'test_rmse', 'test_loglik_unnormalized', 'test_rmse_unnormalized', 'test_mse_sklearn', 'test_mse_unnormalized_sklearn', 'test_nmse_sklearn', 'test_nmse_unnormalized_sklearn'\n",
    "\n",
    "results, fields = read_regression_classification(fs, models_names, regression_datasets, 'regression')\n"
   ]
  },
  {
   "cell_type": "code",
   "execution_count": 40,
   "metadata": {
    "pycharm": {
     "name": "#%%\n"
    }
   },
   "outputs": [
    {
     "name": "stdout",
     "output_type": "stream",
     "text": [
      "sklearn: unnormalised test mse\n"
     ]
    },
    {
     "data": {
      "text/plain": "<IPython.core.display.HTML object>",
      "text/html": "<table border=\"1\" class=\"dataframe\">\n  <thead>\n    <tr style=\"text-align: right;\">\n      <th>dataset</th>\n      <th>N</th>\n      <th>D</th>\n      <th>linear</th>\n      <th>PoE (Ng &amp; Deisenroth)</th>\n      <th>gPoE_entr (Cao &amp; Fleet)</th>\n    </tr>\n  </thead>\n  <tbody>\n    <tr>\n      <td>sarcos0</td>\n      <td>48933</td>\n      <td>21</td>\n      <td>31.0857592861(0.0000000000)</td>\n      <td>56.1261689388(1.3619717942)</td>\n      <td>2.9701203647(0.0518372946)</td>\n    </tr>\n    <tr>\n      <td>sarcos1</td>\n      <td>48933</td>\n      <td>21</td>\n      <td>22.6845575348(0.0000000000)</td>\n      <td>13.2338561923(0.4973648882)</td>\n      <td>0.5394248982(0.0131459492)</td>\n    </tr>\n    <tr>\n      <td>sarcos2</td>\n      <td>48933</td>\n      <td>21</td>\n      <td>9.0841228118(0.0000000000)</td>\n      <td>3.6051866244(0.1229947051)</td>\n      <td>0.1789287140(0.0044620920)</td>\n    </tr>\n    <tr>\n      <td>sarcos3</td>\n      <td>48933</td>\n      <td>21</td>\n      <td>9.7322006864(0.0000000000)</td>\n      <td>2.3643932817(0.0756264099)</td>\n      <td>0.2265600857(0.0047684772)</td>\n    </tr>\n    <tr>\n      <td>sarcos4</td>\n      <td>48933</td>\n      <td>21</td>\n      <td>0.1340376345(0.0000000000)</td>\n      <td>0.1055203532(0.0039162828)</td>\n      <td>0.0035983113(0.0001439037)</td>\n    </tr>\n    <tr>\n      <td>sarcos5</td>\n      <td>48933</td>\n      <td>21</td>\n      <td>0.8274044870(0.0000000000)</td>\n      <td>0.3117010379(0.0096772373)</td>\n      <td>0.0081096160(0.0001856999)</td>\n    </tr>\n    <tr>\n      <td>sarcos6</td>\n      <td>48933</td>\n      <td>21</td>\n      <td>0.4364194860(0.0000000000)</td>\n      <td>0.2560262553(0.0059206543)</td>\n      <td>0.0198398965(0.0003353767)</td>\n    </tr>\n    <tr>\n      <td>avg</td>\n      <td></td>\n      <td></td>\n      <td>10.5692145609</td>\n      <td>10.8575503834</td>\n      <td>0.5637974123</td>\n    </tr>\n    <tr>\n      <td>std</td>\n      <td></td>\n      <td></td>\n      <td>0.0000000000</td>\n      <td>0.2967817103</td>\n      <td>0.0106969705</td>\n    </tr>\n    <tr>\n      <td>median</td>\n      <td></td>\n      <td></td>\n      <td>9.0841228118</td>\n      <td>2.3643932817</td>\n      <td>0.1789287140</td>\n    </tr>\n    <tr>\n      <td>avg rank</td>\n      <td></td>\n      <td></td>\n      <td>2.8571428571</td>\n      <td>2.1428571429</td>\n      <td>1.0000000000</td>\n    </tr>\n  </tbody>\n</table>"
     },
     "metadata": {},
     "output_type": "display_data"
    },
    {
     "name": "stdout",
     "output_type": "stream",
     "text": [
      "sklearn: unnormalized test nmse\n"
     ]
    },
    {
     "data": {
      "text/plain": "<IPython.core.display.HTML object>",
      "text/html": "<table border=\"1\" class=\"dataframe\">\n  <thead>\n    <tr style=\"text-align: right;\">\n      <th>dataset</th>\n      <th>N</th>\n      <th>D</th>\n      <th>linear</th>\n      <th>PoE (Ng &amp; Deisenroth)</th>\n      <th>gPoE_entr (Cao &amp; Fleet)</th>\n    </tr>\n  </thead>\n  <tbody>\n    <tr>\n      <td>sarcos0</td>\n      <td>48933</td>\n      <td>21</td>\n      <td>0.0750541817(0.0000000000)</td>\n      <td>0.1355123304(0.0032883764)</td>\n      <td>0.0071711278(0.0001251572)</td>\n    </tr>\n    <tr>\n      <td>sarcos1</td>\n      <td>48933</td>\n      <td>21</td>\n      <td>0.1021822311(0.0000000000)</td>\n      <td>0.0596116962(0.0022403723)</td>\n      <td>0.0024298309(0.0000592157)</td>\n    </tr>\n    <tr>\n      <td>sarcos2</td>\n      <td>48933</td>\n      <td>21</td>\n      <td>0.0918075180(0.0000000000)</td>\n      <td>0.0364353546(0.0012430302)</td>\n      <td>0.0018083200(0.0000450956)</td>\n    </tr>\n    <tr>\n      <td>sarcos3</td>\n      <td>48933</td>\n      <td>21</td>\n      <td>0.0514072291(0.0000000000)</td>\n      <td>0.0124891493(0.0003994723)</td>\n      <td>0.0011967310(0.0000251880)</td>\n    </tr>\n    <tr>\n      <td>sarcos4</td>\n      <td>48933</td>\n      <td>21</td>\n      <td>0.1416681356(0.0000000000)</td>\n      <td>0.1115274211(0.0041392291)</td>\n      <td>0.0038031561(0.0001520958)</td>\n    </tr>\n    <tr>\n      <td>sarcos5</td>\n      <td>48933</td>\n      <td>21</td>\n      <td>0.2816991827(0.0000000000)</td>\n      <td>0.1061221313(0.0032947245)</td>\n      <td>0.0027610102(0.0000632236)</td>\n    </tr>\n    <tr>\n      <td>sarcos6</td>\n      <td>48933</td>\n      <td>21</td>\n      <td>0.0648678247(0.0000000000)</td>\n      <td>0.0380548229(0.0008800248)</td>\n      <td>0.0029489309(0.0000498492)</td>\n    </tr>\n    <tr>\n      <td>avg</td>\n      <td></td>\n      <td></td>\n      <td>0.1155266147</td>\n      <td>0.0713932723</td>\n      <td>0.0031598724</td>\n    </tr>\n    <tr>\n      <td>std</td>\n      <td></td>\n      <td></td>\n      <td>0.0000000000</td>\n      <td>0.0022121756</td>\n      <td>0.0000742607</td>\n    </tr>\n    <tr>\n      <td>median</td>\n      <td></td>\n      <td></td>\n      <td>0.0918075180</td>\n      <td>0.0596116962</td>\n      <td>0.0027610102</td>\n    </tr>\n    <tr>\n      <td>avg rank</td>\n      <td></td>\n      <td></td>\n      <td>2.8571428571</td>\n      <td>2.1428571429</td>\n      <td>1.0000000000</td>\n    </tr>\n  </tbody>\n</table>"
     },
     "metadata": {},
     "output_type": "display_data"
    }
   ],
   "source": [
    "# print('NLPDSd')\n",
    "# display(HTML(pandas.DataFrame(results['test_loglik']['table'], columns=fields).to_html(index=False)))\n",
    "#\n",
    "# print('normalised test rmse')\n",
    "# display(HTML(pandas.DataFrame(results['test_rmse']['table'], columns=fields).to_html(index=False)))\n",
    "#\n",
    "# print('unnormalised test rmse')\n",
    "# display(HTML(pandas.DataFrame(results['test_rmse_unnormalized']['table'], columns=fields).to_html(index=False)))\n",
    "#\n",
    "# print('sklearn: normalised test mse')\n",
    "# display(HTML(pandas.DataFrame(results['test_mse_sklearn']['table'], columns=fields).to_html(index=False)))\n",
    "\n",
    "print('sklearn: unnormalised test mse')\n",
    "display(HTML(pandas.DataFrame(results['test_mse_unnormalized_sklearn']['table'], columns=fields).to_html(index=False)))\n",
    "\n",
    "print('sklearn: unnormalized test nmse')\n",
    "display(HTML(pandas.DataFrame(results['test_nmse_unnormalized_sklearn']['table'], columns=fields).to_html(index=False)))\n"
   ]
  },
  {
   "cell_type": "code",
   "execution_count": null,
   "metadata": {
    "pycharm": {
     "name": "#%%\n"
    }
   },
   "outputs": [],
   "source": [
    "# models_names = [\n",
    "#                ['bar_10_500_random_variance', 'bar_var'],\n",
    "#                ['gPoE_10_500_random_variance', 'gpoe_var'],\n",
    "#                ['gPoE_10_500_random_uniform', 'gpoe_unif'],\n",
    "#                ['linear', 'linear']]\n",
    "#\n",
    "#\n",
    "# fs = 'top_1_acc', 'top_2_acc', 'top_3_acc', 'test_loglik'\n",
    "#\n",
    "# results, fields = read_regression_classification(fs, models_names, classification_datasets, 'classification')\n"
   ]
  },
  {
   "cell_type": "code",
   "execution_count": null,
   "metadata": {
    "pycharm": {
     "name": "#%%\n"
    }
   },
   "outputs": [],
   "source": [
    "\n",
    "# print('top 1 accuracy')\n",
    "# display(HTML(pandas.DataFrame(results['top_1_acc']['table'], columns=fields).to_html(index=False)))\n",
    "#\n",
    "#\n",
    "# print('top 2 accuracy')\n",
    "# display(HTML(pandas.DataFrame(results['top_2_acc']['table'], columns=fields).to_html(index=False)))\n",
    "#\n",
    "# print('top 3 accuracy')\n",
    "# display(HTML(pandas.DataFrame(results['top_3_acc']['table'], columns=fields).to_html(index=False)))\n",
    "#\n",
    "# print('NLPDs')\n",
    "# display(HTML(pandas.DataFrame(results['test_loglik']['table'], columns=fields).to_html(index=False)))\n"
   ]
  },
  {
   "cell_type": "code",
   "execution_count": null,
   "metadata": {
    "pycharm": {
     "name": "#%%\n"
    }
   },
   "outputs": [],
   "source": []
  },
  {
   "cell_type": "code",
   "execution_count": null,
   "metadata": {
    "pycharm": {
     "name": "#%%\n"
    }
   },
   "outputs": [],
   "source": []
  },
  {
   "cell_type": "code",
   "execution_count": null,
   "metadata": {
    "pycharm": {
     "name": "#%%\n"
    }
   },
   "outputs": [],
   "source": []
  }
 ],
 "metadata": {
  "kernelspec": {
   "display_name": "Python 3",
   "language": "python",
   "name": "python3"
  },
  "language_info": {
   "codemirror_mode": {
    "name": "ipython",
    "version": 3
   },
   "file_extension": ".py",
   "mimetype": "text/x-python",
   "name": "python",
   "nbconvert_exporter": "python",
   "pygments_lexer": "ipython3",
   "version": "3.7.1"
  }
 },
 "nbformat": 4,
 "nbformat_minor": 4
}