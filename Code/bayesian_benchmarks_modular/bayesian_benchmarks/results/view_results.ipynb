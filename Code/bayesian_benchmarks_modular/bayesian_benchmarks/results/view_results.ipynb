{
 "cells": [
  {
   "cell_type": "code",
   "execution_count": 1,
   "outputs": [
    {
     "data": {
      "text/plain": "<IPython.core.display.Javascript object>",
      "application/javascript": "\nIPython.OutputArea.auto_scroll_threshold = 9999\n"
     },
     "metadata": {},
     "output_type": "display_data"
    }
   ],
   "source": [
    "%%javascript\n",
    "\n",
    "IPython.OutputArea.auto_scroll_threshold = 9999"
   ],
   "metadata": {
    "collapsed": false,
    "pycharm": {
     "name": "#%%\n"
    }
   }
  },
  {
   "cell_type": "code",
   "execution_count": 2,
   "metadata": {
    "pycharm": {
     "name": "#%%\n"
    }
   },
   "outputs": [
    {
     "name": "stdout",
     "output_type": "stream",
     "text": [
      "/home/pnickl/pycharm-projects/Healing-POEs-ICML/Code/bayesian_benchmarks_modular\n"
     ]
    }
   ],
   "source": [
    "cd ../../"
   ]
  },
  {
   "cell_type": "code",
   "execution_count": 3,
   "metadata": {
    "pycharm": {
     "name": "#%%\n"
    }
   },
   "outputs": [
    {
     "name": "stderr",
     "output_type": "stream",
     "text": [
      "2022-08-22 00:45:36.464872: I tensorflow/core/util/util.cc:169] oneDNN custom operations are on. You may see slightly different numerical results due to floating-point round-off errors from different computation orders. To turn them off, set the environment variable `TF_ENABLE_ONEDNN_OPTS=0`.\n"
     ]
    },
    {
     "name": "stdout",
     "output_type": "stream",
     "text": [
      "1\n"
     ]
    },
    {
     "name": "stderr",
     "output_type": "stream",
     "text": [
      "2022-08-22 00:45:37.408256: I tensorflow/stream_executor/cuda/cuda_gpu_executor.cc:975] successful NUMA node read from SysFS had negative value (-1), but there must be at least one NUMA node, so returning NUMA node zero\n",
      "2022-08-22 00:45:37.414478: I tensorflow/stream_executor/cuda/cuda_gpu_executor.cc:975] successful NUMA node read from SysFS had negative value (-1), but there must be at least one NUMA node, so returning NUMA node zero\n",
      "2022-08-22 00:45:37.415019: I tensorflow/stream_executor/cuda/cuda_gpu_executor.cc:975] successful NUMA node read from SysFS had negative value (-1), but there must be at least one NUMA node, so returning NUMA node zero\n"
     ]
    }
   ],
   "source": [
    "\n",
    "from matplotlib import pyplot\n",
    "import numpy as np\n",
    "import pandas\n",
    "from matplotlib import pyplot as plt\n",
    "from scipy.stats import rankdata\n",
    "from IPython.display import display, HTML\n",
    "\n",
    "from bayesian_benchmarks.database_utils import Database\n",
    "from bayesian_benchmarks.data import  _ALL_REGRESSION_DATATSETS\n",
    "from bayesian_benchmarks.data import  _ALL_CLASSIFICATION_DATATSETS\n",
    "ALL_DATATSETS = {}\n",
    "ALL_DATATSETS.update(_ALL_REGRESSION_DATATSETS)\n",
    "ALL_DATATSETS.update(_ALL_CLASSIFICATION_DATATSETS)\n",
    "from bayesian_benchmarks.data import regression_datasets\n",
    "from bayesian_benchmarks.data import classification_datasets\n"
   ]
  },
  {
   "cell_type": "code",
   "execution_count": 4,
   "metadata": {
    "pycharm": {
     "name": "#%%\n"
    }
   },
   "outputs": [],
   "source": [
    "def rankarray(A):\n",
    "    ranks = []\n",
    "    for a in A:\n",
    "        ranks.append(rankdata(a))\n",
    "    return np.array(ranks)\n",
    "\n",
    "\n",
    "def read_regression_classification(fs, models_names, datasets, task,file='results.db'):\n",
    "    if task == 'classification':\n",
    "        fields = ['dataset', 'N', 'D', 'K'] + [m[1] for m in models_names]\n",
    "    else:\n",
    "        fields = ['dataset', 'N', 'D'] + [m[1] for m in models_names]\n",
    "\n",
    "    results = {}\n",
    "    for f in fs:\n",
    "        results[f] = {'table':{f:[] for f in fields}, 'vals':[]}\n",
    "\n",
    "    with Database('bayesian_benchmarks/results/'+file) as db:\n",
    "\n",
    "        for dataset in datasets:\n",
    "            for f in fs:\n",
    "                results[f]['table']['dataset'].append(dataset[:10])\n",
    "                results[f]['table']['N'].append(ALL_DATATSETS[dataset].N)\n",
    "                results[f]['table']['D'].append(ALL_DATATSETS[dataset].D)\n",
    "                if task == 'classification':\n",
    "                    results[f]['table']['K'].append(ALL_DATATSETS[dataset].K)\n",
    "\n",
    "            row = {f:[] for f in fs}\n",
    "            for model, name in models_names:\n",
    "                res = db.read(task, fs, {'model':model, \n",
    "                                         'dataset':dataset})\n",
    "                if len(res) == 0:\n",
    "                    for f in fs:\n",
    "                        results[f]['table'][name].append('')\n",
    "                        row[f].append(np.nan)\n",
    "                else:\n",
    "                    for i, f in enumerate(fs):\n",
    "                        if f=='test_loglik':\n",
    "                            L = [-float(l[i]) for l in res]\n",
    "                        else:\n",
    "                            L = [float(l[i]) for l in res]\n",
    "                        m = np.average(L)\n",
    "                        std = np.std(L) if len(L) > 1 else np.nan\n",
    "                        if m < 1000 and m > -1000:\n",
    "                            r = '{:.10f}({:.10f})'.format(m, std)\n",
    "                            row[f].append(m)\n",
    "                        else:\n",
    "                            r = 'nan'\n",
    "                            row[f].append(np.nan)\n",
    "\n",
    "                        results[f]['table'][name].append(r)\n",
    "\n",
    "            #             stderr = np.std(L)/float(len(L))**0.5\n",
    "            #             r = '{:.3f} ({:.3f})'.format(m, stderr)\n",
    "            for f in fs:   \n",
    "                results[f]['vals'].append(row[f])\n",
    "\n",
    "\n",
    "    for f in fs:\n",
    "        if 'unnormalized' not in f:\n",
    "            vals = np.array(results[f]['vals'])\n",
    "\n",
    "            avgs = np.nanmean(vals, 0)\n",
    "            meds = np.nanmedian(vals, 0)\n",
    "            rks = np.nanmean(rankarray(vals), 0)\n",
    "\n",
    "            for s, n in [[avgs, 'avg'], [meds, 'median'], [rks, 'avg rank']]:\n",
    "                results[f]['table']['dataset'].append(n)\n",
    "                results[f]['table']['N'].append('')\n",
    "                results[f]['table']['D'].append('')\n",
    "                if task == 'classification':\n",
    "                    results[f]['table']['K'].append('')\n",
    "                for ss, name in zip(s, [m[1] for m in models_names]):\n",
    "                    results[f]['table'][name].append('{:.10f}'.format(ss))\n",
    "    \n",
    "    return results, fields"
   ]
  },
  {
   "cell_type": "code",
   "execution_count": 5,
   "metadata": {
    "collapsed": true,
    "jupyter": {
     "outputs_hidden": true
    },
    "pycharm": {
     "name": "#%%\n"
    }
   },
   "outputs": [],
   "source": [
    "# models_names = [\n",
    "#                ['gPoE_100_100_clustering_variance', 'rBCM/gPoE_var'],\n",
    "#                ['bar_100_100_clustering_variance', 'bar_var'],\n",
    "#                ['rBCM_100_100_clustering_diff_entr', 'rbcm_entr'],\n",
    "#                ['gp', 'gp'],\n",
    "#                ['linear', 'linear']]\n",
    "\n",
    "\n",
    "models_names = [\n",
    "                # ['rBCM_100_100_clustering_variance', 'rbcm_var'],\n",
    "                # ['rBCM_100_100_clustering_diff_entr', 'rBCM_entr'], # compare to results in paper\n",
    "                # ['gPoE_100_100_clustering_variance', 'rBCM/gPOE_var'], # compare to results in paper\n",
    "                ['linear', 'linear'], # compare to results in paper\n",
    "                ['PoE_100_100_clustering_no_weights', 'PoE (Ng & Deisenroth)' ],\n",
    "                ['gPoE_100_100_clustering_diff_entr', 'gPoE_entr (Cao & Fleet)']\n",
    "]\n",
    "\n",
    "\n",
    "# fs = 'test_loglik', 'test_rmse', 'test_loglik_unnormalized', 'test_rmse_unnormalized'\n",
    "fs = 'test_loglik', 'test_rmse', 'test_loglik_unnormalized', 'test_rmse_unnormalized', 'test_mse_sklearn', 'test_mse_unnormalized_sklearn', 'test_nmse_sklearn', 'test_nmse_unnormalized_sklearn'\n",
    "\n",
    "results, fields = read_regression_classification(fs, models_names, regression_datasets, 'regression')\n"
   ]
  },
  {
   "cell_type": "code",
   "execution_count": 14,
   "metadata": {
    "pycharm": {
     "name": "#%%\n"
    }
   },
   "outputs": [
    {
     "name": "stdout",
     "output_type": "stream",
     "text": [
      "NLPDSd\n"
     ]
    },
    {
     "data": {
      "text/plain": "<IPython.core.display.HTML object>",
      "text/html": "<table border=\"1\" class=\"dataframe\">\n  <thead>\n    <tr style=\"text-align: right;\">\n      <th>dataset</th>\n      <th>N</th>\n      <th>D</th>\n      <th>linear</th>\n      <th>PoE (Ng &amp; Deisenroth)</th>\n      <th>gPoE_entr (Cao &amp; Fleet)</th>\n    </tr>\n  </thead>\n  <tbody>\n    <tr>\n      <td>concrete</td>\n      <td>1030</td>\n      <td>8</td>\n      <td>0.9425768874(0.0485703228)</td>\n      <td>0.4054547731(0.0794824752)</td>\n      <td>0.3224704390(0.0946139513)</td>\n    </tr>\n    <tr>\n      <td>sarcos</td>\n      <td>48933</td>\n      <td>21</td>\n      <td>0.1113534031(0.0188162527)</td>\n      <td>10.6810135799(0.6659500401)</td>\n      <td>-0.4954171198(0.0060118656)</td>\n    </tr>\n    <tr>\n      <td>avg</td>\n      <td></td>\n      <td></td>\n      <td>0.5269651453</td>\n      <td>5.5432341765</td>\n      <td>-0.0864733404</td>\n    </tr>\n    <tr>\n      <td>median</td>\n      <td></td>\n      <td></td>\n      <td>0.5269651453</td>\n      <td>5.5432341765</td>\n      <td>-0.0864733404</td>\n    </tr>\n    <tr>\n      <td>avg rank</td>\n      <td></td>\n      <td></td>\n      <td>2.5000000000</td>\n      <td>2.5000000000</td>\n      <td>1.0000000000</td>\n    </tr>\n  </tbody>\n</table>"
     },
     "metadata": {},
     "output_type": "display_data"
    },
    {
     "name": "stdout",
     "output_type": "stream",
     "text": [
      "normalised test rmse\n"
     ]
    },
    {
     "data": {
      "text/plain": "<IPython.core.display.HTML object>",
      "text/html": "<table border=\"1\" class=\"dataframe\">\n  <thead>\n    <tr style=\"text-align: right;\">\n      <th>dataset</th>\n      <th>N</th>\n      <th>D</th>\n      <th>linear</th>\n      <th>PoE (Ng &amp; Deisenroth)</th>\n      <th>gPoE_entr (Cao &amp; Fleet)</th>\n    </tr>\n  </thead>\n  <tbody>\n    <tr>\n      <td>concrete</td>\n      <td>1030</td>\n      <td>8</td>\n      <td>0.6199563463(0.0302201741)</td>\n      <td>0.3812899316(0.0245352044)</td>\n      <td>0.3452320462(0.0169255438)</td>\n    </tr>\n    <tr>\n      <td>sarcos</td>\n      <td>48933</td>\n      <td>21</td>\n      <td>0.2703963238(0.0051143533)</td>\n      <td>0.4342525319(0.0116161654)</td>\n      <td>0.1181163925(0.0039674572)</td>\n    </tr>\n    <tr>\n      <td>avg</td>\n      <td></td>\n      <td></td>\n      <td>0.4451763351</td>\n      <td>0.4077712318</td>\n      <td>0.2316742193</td>\n    </tr>\n    <tr>\n      <td>median</td>\n      <td></td>\n      <td></td>\n      <td>0.4451763351</td>\n      <td>0.4077712318</td>\n      <td>0.2316742193</td>\n    </tr>\n    <tr>\n      <td>avg rank</td>\n      <td></td>\n      <td></td>\n      <td>2.5000000000</td>\n      <td>2.5000000000</td>\n      <td>1.0000000000</td>\n    </tr>\n  </tbody>\n</table>"
     },
     "metadata": {},
     "output_type": "display_data"
    },
    {
     "name": "stdout",
     "output_type": "stream",
     "text": [
      "unnormalised test rmse\n"
     ]
    },
    {
     "data": {
      "text/plain": "<IPython.core.display.HTML object>",
      "text/html": "<table border=\"1\" class=\"dataframe\">\n  <thead>\n    <tr style=\"text-align: right;\">\n      <th>dataset</th>\n      <th>N</th>\n      <th>D</th>\n      <th>linear</th>\n      <th>PoE (Ng &amp; Deisenroth)</th>\n      <th>gPoE_entr (Cao &amp; Fleet)</th>\n    </tr>\n  </thead>\n  <tbody>\n    <tr>\n      <td>concrete</td>\n      <td>1030</td>\n      <td>8</td>\n      <td>10.3517636547(0.5046034320)</td>\n      <td>6.3666148095(0.4096782601)</td>\n      <td>5.7645357927(0.2826154298)</td>\n    </tr>\n    <tr>\n      <td>sarcos</td>\n      <td>48933</td>\n      <td>21</td>\n      <td>5.5307670524(0.1046105078)</td>\n      <td>8.8823308027(0.2376005126)</td>\n      <td>2.4159879198(0.0811515537)</td>\n    </tr>\n  </tbody>\n</table>"
     },
     "metadata": {},
     "output_type": "display_data"
    },
    {
     "name": "stdout",
     "output_type": "stream",
     "text": [
      "sklearn: unnormalised test mse\n"
     ]
    },
    {
     "data": {
      "text/plain": "<IPython.core.display.HTML object>",
      "text/html": "<table border=\"1\" class=\"dataframe\">\n  <thead>\n    <tr style=\"text-align: right;\">\n      <th>dataset</th>\n      <th>N</th>\n      <th>D</th>\n      <th>linear</th>\n      <th>PoE (Ng &amp; Deisenroth)</th>\n      <th>gPoE_entr (Cao &amp; Fleet)</th>\n    </tr>\n  </thead>\n  <tbody>\n    <tr>\n      <td>concrete</td>\n      <td>1030</td>\n      <td>8</td>\n      <td>107.4136353853(10.4217239158)</td>\n      <td>40.7016204100(5.1830426113)</td>\n      <td>33.3097443865(3.1624093932)</td>\n    </tr>\n    <tr>\n      <td>sarcos</td>\n      <td>48933</td>\n      <td>21</td>\n      <td>30.6003275468(1.1610761809)</td>\n      <td>78.9522544923(4.2041771030)</td>\n      <td>5.8435832034(0.3928033802)</td>\n    </tr>\n  </tbody>\n</table>"
     },
     "metadata": {},
     "output_type": "display_data"
    },
    {
     "name": "stdout",
     "output_type": "stream",
     "text": [
      "sklearn: unnormalized test nmse\n"
     ]
    },
    {
     "data": {
      "text/plain": "<IPython.core.display.HTML object>",
      "text/html": "<table border=\"1\" class=\"dataframe\">\n  <thead>\n    <tr style=\"text-align: right;\">\n      <th>dataset</th>\n      <th>N</th>\n      <th>D</th>\n      <th>linear</th>\n      <th>PoE (Ng &amp; Deisenroth)</th>\n      <th>gPoE_entr (Cao &amp; Fleet)</th>\n    </tr>\n  </thead>\n  <tbody>\n    <tr>\n      <td>concrete</td>\n      <td>1030</td>\n      <td>8</td>\n      <td>0.3672552392(0.0331991777)</td>\n      <td>0.1383518176(0.0081140571)</td>\n      <td>0.1135671025(0.0058596529)</td>\n    </tr>\n    <tr>\n      <td>sarcos</td>\n      <td>48933</td>\n      <td>21</td>\n      <td>0.0718960064(0.0018982927)</td>\n      <td>0.1853914959(0.0058049567)</td>\n      <td>0.0137183639(0.0006421571)</td>\n    </tr>\n  </tbody>\n</table>"
     },
     "metadata": {},
     "output_type": "display_data"
    }
   ],
   "source": [
    "\n",
    "print('NLPDSd')\n",
    "display(HTML(pandas.DataFrame(results['test_loglik']['table'], columns=fields).to_html(index=False)))\n",
    "\n",
    "print('normalised test rmse')\n",
    "display(HTML(pandas.DataFrame(results['test_rmse']['table'], columns=fields).to_html(index=False)))\n",
    "\n",
    "print('unnormalised test rmse')\n",
    "display(HTML(pandas.DataFrame(results['test_rmse_unnormalized']['table'], columns=fields).to_html(index=False)))\n",
    "\n",
    "print('sklearn: unnormalised test mse')\n",
    "display(HTML(pandas.DataFrame(results['test_mse_unnormalized_sklearn']['table'], columns=fields).to_html(index=False)))\n",
    "\n",
    "print('sklearn: unnormalized test nmse')\n",
    "display(HTML(pandas.DataFrame(results['test_rmse_unnormalized_sklearn']['table'], columns=fields).to_html(index=False)))\n"
   ]
  },
  {
   "cell_type": "code",
   "execution_count": null,
   "metadata": {
    "pycharm": {
     "name": "#%%\n"
    }
   },
   "outputs": [],
   "source": [
    "# models_names = [\n",
    "#                ['bar_10_500_random_variance', 'bar_var'],\n",
    "#                ['gPoE_10_500_random_variance', 'gpoe_var'],\n",
    "#                ['gPoE_10_500_random_uniform', 'gpoe_unif'],\n",
    "#                ['linear', 'linear']]\n",
    "#\n",
    "#\n",
    "# fs = 'top_1_acc', 'top_2_acc', 'top_3_acc', 'test_loglik'\n",
    "#\n",
    "# results, fields = read_regression_classification(fs, models_names, classification_datasets, 'classification')\n"
   ]
  },
  {
   "cell_type": "code",
   "execution_count": null,
   "metadata": {
    "pycharm": {
     "name": "#%%\n"
    }
   },
   "outputs": [],
   "source": [
    "\n",
    "# print('top 1 accuracy')\n",
    "# display(HTML(pandas.DataFrame(results['top_1_acc']['table'], columns=fields).to_html(index=False)))\n",
    "#\n",
    "#\n",
    "# print('top 2 accuracy')\n",
    "# display(HTML(pandas.DataFrame(results['top_2_acc']['table'], columns=fields).to_html(index=False)))\n",
    "#\n",
    "# print('top 3 accuracy')\n",
    "# display(HTML(pandas.DataFrame(results['top_3_acc']['table'], columns=fields).to_html(index=False)))\n",
    "#\n",
    "# print('NLPDs')\n",
    "# display(HTML(pandas.DataFrame(results['test_loglik']['table'], columns=fields).to_html(index=False)))\n"
   ]
  },
  {
   "cell_type": "code",
   "execution_count": null,
   "metadata": {
    "pycharm": {
     "name": "#%%\n"
    }
   },
   "outputs": [],
   "source": []
  },
  {
   "cell_type": "code",
   "execution_count": null,
   "metadata": {
    "pycharm": {
     "name": "#%%\n"
    }
   },
   "outputs": [],
   "source": []
  },
  {
   "cell_type": "code",
   "execution_count": null,
   "metadata": {
    "pycharm": {
     "name": "#%%\n"
    }
   },
   "outputs": [],
   "source": []
  }
 ],
 "metadata": {
  "kernelspec": {
   "display_name": "Python 3",
   "language": "python",
   "name": "python3"
  },
  "language_info": {
   "codemirror_mode": {
    "name": "ipython",
    "version": 3
   },
   "file_extension": ".py",
   "mimetype": "text/x-python",
   "name": "python",
   "nbconvert_exporter": "python",
   "pygments_lexer": "ipython3",
   "version": "3.7.1"
  }
 },
 "nbformat": 4,
 "nbformat_minor": 4
}